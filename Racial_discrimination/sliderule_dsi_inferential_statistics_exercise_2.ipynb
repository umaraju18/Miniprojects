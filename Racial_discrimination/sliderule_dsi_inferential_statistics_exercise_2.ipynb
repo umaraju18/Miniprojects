{
 "cells": [
  {
   "cell_type": "markdown",
   "metadata": {},
   "source": [
    "# Examining Racial Discrimination in the US Job Market\n",
    "\n",
    "### Background\n",
    "Racial discrimination continues to be pervasive in cultures throughout the world. Researchers examined the level of racial discrimination in the United States labor market by randomly assigning identical résumés to black-sounding or white-sounding names and observing the impact on requests for interviews from employers.\n",
    "\n",
    "### Data\n",
    "In the dataset provided, each row represents a resume. The 'race' column has two values, 'b' and 'w', indicating black-sounding and white-sounding. The column 'call' has two values, 1 and 0, indicating whether the resume received a call from employers or not.\n",
    "\n",
    "Note that the 'b' and 'w' values in race are assigned randomly to the resumes when presented to the employer."
   ]
  },
  {
   "cell_type": "markdown",
   "metadata": {},
   "source": [
    "### Exercises\n",
    "You will perform a statistical analysis to establish whether race has a significant impact on the rate of callbacks for resumes.\n",
    "\n",
    "Answer the following questions **in this notebook below and submit to your Github account**. \n",
    "\n",
    "   1. What test is appropriate for this problem? Does CLT apply?\n",
    "   2. What are the null and alternate hypotheses?\n",
    "   3. Compute margin of error, confidence interval, and p-value. Try using both the bootstrapping and the frequentist statistical approaches.\n",
    "   4. Write a story describing the statistical significance in the context or the original problem.\n",
    "   5. Does your analysis mean that race/name is the most important factor in callback success? Why or why not? If not, how would you amend your analysis?\n",
    "\n",
    "You can include written notes in notebook cells using Markdown: \n",
    "   - In the control panel at the top, choose Cell > Cell Type > Markdown\n",
    "   - Markdown syntax: http://nestacms.com/docs/creating-content/markdown-cheat-sheet\n",
    "\n",
    "#### Resources\n",
    "+ Experiment information and data source: http://www.povertyactionlab.org/evaluation/discrimination-job-market-united-states\n",
    "+ Scipy statistical methods: http://docs.scipy.org/doc/scipy/reference/stats.html \n",
    "+ Markdown syntax: http://nestacms.com/docs/creating-content/markdown-cheat-sheet\n",
    "+ Formulas for the Bernoulli distribution: https://en.wikipedia.org/wiki/Bernoulli_distribution"
   ]
  },
  {
   "cell_type": "code",
   "execution_count": 52,
   "metadata": {},
   "outputs": [],
   "source": [
    "import pandas as pd\n",
    "import numpy as np\n",
    "from scipy import stats\n",
    "import matplotlib.pyplot as plt"
   ]
  },
  {
   "cell_type": "code",
   "execution_count": 53,
   "metadata": {},
   "outputs": [],
   "source": [
    "data = pd.io.stata.read_stata('/users/hp/desktop/Ds-springboard/mini_project/racial/EDA_racial_discrimination/data/us_job_market_discrimination.dta')\n",
    "\n"
   ]
  },
  {
   "cell_type": "code",
   "execution_count": 54,
   "metadata": {},
   "outputs": [
    {
     "data": {
      "text/plain": [
       "235.0"
      ]
     },
     "execution_count": 54,
     "metadata": {},
     "output_type": "execute_result"
    }
   ],
   "source": [
    "# number of callbacks for black-sounding names\n",
    "sum(data[data.race=='w'].call)"
   ]
  },
  {
   "cell_type": "code",
   "execution_count": 55,
   "metadata": {},
   "outputs": [
    {
     "data": {
      "text/html": [
       "<div>\n",
       "<style scoped>\n",
       "    .dataframe tbody tr th:only-of-type {\n",
       "        vertical-align: middle;\n",
       "    }\n",
       "\n",
       "    .dataframe tbody tr th {\n",
       "        vertical-align: top;\n",
       "    }\n",
       "\n",
       "    .dataframe thead th {\n",
       "        text-align: right;\n",
       "    }\n",
       "</style>\n",
       "<table border=\"1\" class=\"dataframe\">\n",
       "  <thead>\n",
       "    <tr style=\"text-align: right;\">\n",
       "      <th></th>\n",
       "      <th>id</th>\n",
       "      <th>ad</th>\n",
       "      <th>education</th>\n",
       "      <th>ofjobs</th>\n",
       "      <th>yearsexp</th>\n",
       "      <th>honors</th>\n",
       "      <th>volunteer</th>\n",
       "      <th>military</th>\n",
       "      <th>empholes</th>\n",
       "      <th>occupspecific</th>\n",
       "      <th>...</th>\n",
       "      <th>compreq</th>\n",
       "      <th>orgreq</th>\n",
       "      <th>manuf</th>\n",
       "      <th>transcom</th>\n",
       "      <th>bankreal</th>\n",
       "      <th>trade</th>\n",
       "      <th>busservice</th>\n",
       "      <th>othservice</th>\n",
       "      <th>missind</th>\n",
       "      <th>ownership</th>\n",
       "    </tr>\n",
       "  </thead>\n",
       "  <tbody>\n",
       "    <tr>\n",
       "      <th>0</th>\n",
       "      <td>b</td>\n",
       "      <td>1</td>\n",
       "      <td>4</td>\n",
       "      <td>2</td>\n",
       "      <td>6</td>\n",
       "      <td>0</td>\n",
       "      <td>0</td>\n",
       "      <td>0</td>\n",
       "      <td>1</td>\n",
       "      <td>17</td>\n",
       "      <td>...</td>\n",
       "      <td>1.00000</td>\n",
       "      <td>0.00000</td>\n",
       "      <td>1.00000</td>\n",
       "      <td>0.00000</td>\n",
       "      <td>0.00000</td>\n",
       "      <td>0.00000</td>\n",
       "      <td>0.00000</td>\n",
       "      <td>0.00000</td>\n",
       "      <td>0.00000</td>\n",
       "      <td></td>\n",
       "    </tr>\n",
       "    <tr>\n",
       "      <th>1</th>\n",
       "      <td>b</td>\n",
       "      <td>1</td>\n",
       "      <td>3</td>\n",
       "      <td>3</td>\n",
       "      <td>6</td>\n",
       "      <td>0</td>\n",
       "      <td>1</td>\n",
       "      <td>1</td>\n",
       "      <td>0</td>\n",
       "      <td>316</td>\n",
       "      <td>...</td>\n",
       "      <td>1.00000</td>\n",
       "      <td>0.00000</td>\n",
       "      <td>1.00000</td>\n",
       "      <td>0.00000</td>\n",
       "      <td>0.00000</td>\n",
       "      <td>0.00000</td>\n",
       "      <td>0.00000</td>\n",
       "      <td>0.00000</td>\n",
       "      <td>0.00000</td>\n",
       "      <td></td>\n",
       "    </tr>\n",
       "    <tr>\n",
       "      <th>2</th>\n",
       "      <td>b</td>\n",
       "      <td>1</td>\n",
       "      <td>4</td>\n",
       "      <td>1</td>\n",
       "      <td>6</td>\n",
       "      <td>0</td>\n",
       "      <td>0</td>\n",
       "      <td>0</td>\n",
       "      <td>0</td>\n",
       "      <td>19</td>\n",
       "      <td>...</td>\n",
       "      <td>1.00000</td>\n",
       "      <td>0.00000</td>\n",
       "      <td>1.00000</td>\n",
       "      <td>0.00000</td>\n",
       "      <td>0.00000</td>\n",
       "      <td>0.00000</td>\n",
       "      <td>0.00000</td>\n",
       "      <td>0.00000</td>\n",
       "      <td>0.00000</td>\n",
       "      <td></td>\n",
       "    </tr>\n",
       "    <tr>\n",
       "      <th>3</th>\n",
       "      <td>b</td>\n",
       "      <td>1</td>\n",
       "      <td>3</td>\n",
       "      <td>4</td>\n",
       "      <td>6</td>\n",
       "      <td>0</td>\n",
       "      <td>1</td>\n",
       "      <td>0</td>\n",
       "      <td>1</td>\n",
       "      <td>313</td>\n",
       "      <td>...</td>\n",
       "      <td>1.00000</td>\n",
       "      <td>0.00000</td>\n",
       "      <td>1.00000</td>\n",
       "      <td>0.00000</td>\n",
       "      <td>0.00000</td>\n",
       "      <td>0.00000</td>\n",
       "      <td>0.00000</td>\n",
       "      <td>0.00000</td>\n",
       "      <td>0.00000</td>\n",
       "      <td></td>\n",
       "    </tr>\n",
       "    <tr>\n",
       "      <th>4</th>\n",
       "      <td>b</td>\n",
       "      <td>1</td>\n",
       "      <td>3</td>\n",
       "      <td>3</td>\n",
       "      <td>22</td>\n",
       "      <td>0</td>\n",
       "      <td>0</td>\n",
       "      <td>0</td>\n",
       "      <td>0</td>\n",
       "      <td>313</td>\n",
       "      <td>...</td>\n",
       "      <td>1.00000</td>\n",
       "      <td>1.00000</td>\n",
       "      <td>0.00000</td>\n",
       "      <td>0.00000</td>\n",
       "      <td>0.00000</td>\n",
       "      <td>0.00000</td>\n",
       "      <td>0.00000</td>\n",
       "      <td>1.00000</td>\n",
       "      <td>0.00000</td>\n",
       "      <td>Nonprofit</td>\n",
       "    </tr>\n",
       "  </tbody>\n",
       "</table>\n",
       "<p>5 rows × 65 columns</p>\n",
       "</div>"
      ],
      "text/plain": [
       "  id ad  education  ofjobs  yearsexp  honors  volunteer  military  empholes  \\\n",
       "0  b  1          4       2         6       0          0         0         1   \n",
       "1  b  1          3       3         6       0          1         1         0   \n",
       "2  b  1          4       1         6       0          0         0         0   \n",
       "3  b  1          3       4         6       0          1         0         1   \n",
       "4  b  1          3       3        22       0          0         0         0   \n",
       "\n",
       "   occupspecific  ...  compreq  orgreq   manuf  transcom  bankreal   trade  \\\n",
       "0             17  ...  1.00000 0.00000 1.00000   0.00000   0.00000 0.00000   \n",
       "1            316  ...  1.00000 0.00000 1.00000   0.00000   0.00000 0.00000   \n",
       "2             19  ...  1.00000 0.00000 1.00000   0.00000   0.00000 0.00000   \n",
       "3            313  ...  1.00000 0.00000 1.00000   0.00000   0.00000 0.00000   \n",
       "4            313  ...  1.00000 1.00000 0.00000   0.00000   0.00000 0.00000   \n",
       "\n",
       "  busservice othservice  missind  ownership  \n",
       "0    0.00000    0.00000  0.00000             \n",
       "1    0.00000    0.00000  0.00000             \n",
       "2    0.00000    0.00000  0.00000             \n",
       "3    0.00000    0.00000  0.00000             \n",
       "4    0.00000    1.00000  0.00000  Nonprofit  \n",
       "\n",
       "[5 rows x 65 columns]"
      ]
     },
     "execution_count": 55,
     "metadata": {},
     "output_type": "execute_result"
    }
   ],
   "source": [
    "data.head()"
   ]
  },
  {
   "cell_type": "code",
   "execution_count": 56,
   "metadata": {},
   "outputs": [
    {
     "name": "stdout",
     "output_type": "stream",
     "text": [
      "<class 'pandas.core.frame.DataFrame'>\n",
      "Int64Index: 4870 entries, 0 to 4869\n",
      "Data columns (total 65 columns):\n",
      "id                    4870 non-null object\n",
      "ad                    4870 non-null object\n",
      "education             4870 non-null int8\n",
      "ofjobs                4870 non-null int8\n",
      "yearsexp              4870 non-null int8\n",
      "honors                4870 non-null int8\n",
      "volunteer             4870 non-null int8\n",
      "military              4870 non-null int8\n",
      "empholes              4870 non-null int8\n",
      "occupspecific         4870 non-null int16\n",
      "occupbroad            4870 non-null int8\n",
      "workinschool          4870 non-null int8\n",
      "email                 4870 non-null int8\n",
      "computerskills        4870 non-null int8\n",
      "specialskills         4870 non-null int8\n",
      "firstname             4870 non-null object\n",
      "sex                   4870 non-null object\n",
      "race                  4870 non-null object\n",
      "h                     4870 non-null float32\n",
      "l                     4870 non-null float32\n",
      "call                  4870 non-null float32\n",
      "city                  4870 non-null object\n",
      "kind                  4870 non-null object\n",
      "adid                  4870 non-null float32\n",
      "fracblack             4784 non-null float32\n",
      "fracwhite             4784 non-null float32\n",
      "lmedhhinc             4784 non-null float32\n",
      "fracdropout           4784 non-null float32\n",
      "fraccolp              4784 non-null float32\n",
      "linc                  4784 non-null float32\n",
      "col                   4870 non-null float32\n",
      "expminreq             4870 non-null object\n",
      "schoolreq             4870 non-null object\n",
      "eoe                   4870 non-null float32\n",
      "parent_sales          1672 non-null float32\n",
      "parent_emp            1722 non-null float32\n",
      "branch_sales          608 non-null float32\n",
      "branch_emp            658 non-null float32\n",
      "fed                   3102 non-null float32\n",
      "fracblack_empzip      1918 non-null float32\n",
      "fracwhite_empzip      1918 non-null float32\n",
      "lmedhhinc_empzip      1908 non-null float32\n",
      "fracdropout_empzip    1918 non-null float32\n",
      "fraccolp_empzip       1918 non-null float32\n",
      "linc_empzip           1918 non-null float32\n",
      "manager               4870 non-null float32\n",
      "supervisor            4870 non-null float32\n",
      "secretary             4870 non-null float32\n",
      "offsupport            4870 non-null float32\n",
      "salesrep              4870 non-null float32\n",
      "retailsales           4870 non-null float32\n",
      "req                   4870 non-null float32\n",
      "expreq                4870 non-null float32\n",
      "comreq                4870 non-null float32\n",
      "educreq               4870 non-null float32\n",
      "compreq               4870 non-null float32\n",
      "orgreq                4870 non-null float32\n",
      "manuf                 4870 non-null float32\n",
      "transcom              4870 non-null float32\n",
      "bankreal              4870 non-null float32\n",
      "trade                 4870 non-null float32\n",
      "busservice            4870 non-null float32\n",
      "othservice            4870 non-null float32\n",
      "missind               4870 non-null float32\n",
      "ownership             4870 non-null object\n",
      "dtypes: float32(42), int16(1), int8(12), object(10)\n",
      "memory usage: 1.3+ MB\n"
     ]
    }
   ],
   "source": [
    "data.info()"
   ]
  },
  {
   "cell_type": "markdown",
   "metadata": {},
   "source": [
    "# What test is appropriate for this problem? Does CLT apply?\n",
    "\n",
    "As the variables are categorical we'll use hypothesis test for comparing two proportions."
   ]
  },
  {
   "cell_type": "markdown",
   "metadata": {},
   "source": [
    "1. Does CLT apply?\n",
    "2. What are the null and alternate hypotheses?\n"
   ]
  },
  {
   "cell_type": "code",
   "execution_count": 57,
   "metadata": {},
   "outputs": [],
   "source": [
    "# data containing white and black applicants\n",
    "w = data[data.race=='w']\n",
    "b = data[data.race=='b']"
   ]
  },
  {
   "cell_type": "code",
   "execution_count": 58,
   "metadata": {},
   "outputs": [
    {
     "name": "stdout",
     "output_type": "stream",
     "text": [
      "Total white applicants:  2435\n",
      "Number of callbacks for white applicants:  235.0\n",
      "Percent of callbacks for white applicants: 0.0965\n"
     ]
    }
   ],
   "source": [
    "# white applicants\n",
    "n_w = len(w)\n",
    "print('Total white applicants: ', n_w)\n",
    "c_w = w.call.sum()\n",
    "print('Number of callbacks for white applicants: ',c_w)\n",
    "p_w = c_w/n_w\n",
    "print('Percent of callbacks for white applicants: %.4f' % p_w)\n"
   ]
  },
  {
   "cell_type": "code",
   "execution_count": 59,
   "metadata": {},
   "outputs": [
    {
     "name": "stdout",
     "output_type": "stream",
     "text": [
      "Total black applicants:  2435\n",
      "Number of callbacks for black applicants:  157.0\n",
      "Percent of callbacks for black applicants: 0.0645\n"
     ]
    }
   ],
   "source": [
    "# black applicants\n",
    "n_b = len(b)\n",
    "print('Total black applicants: ', n_b)\n",
    "c_b = b.call.sum()\n",
    "print('Number of callbacks for black applicants: ',c_b)\n",
    "p_b = c_b/n_b\n",
    "print('Percent of callbacks for black applicants: %.4f' % p_b)\n"
   ]
  },
  {
   "cell_type": "code",
   "execution_count": 60,
   "metadata": {},
   "outputs": [
    {
     "data": {
      "text/plain": [
       "(0, 4)"
      ]
     },
     "execution_count": 60,
     "metadata": {},
     "output_type": "execute_result"
    },
    {
     "data": {
      "image/png": "[encoded data removed]",
      "text/plain": [
       "<Figure size 1080x1080 with 1 Axes>"
      ]
     },
     "metadata": {
      "needs_background": "light"
     },
     "output_type": "display_data"
    }
   ],
   "source": [
    "\n",
    "#plotting number of call back an no no call back for whites and black candidates\n",
    "ind = [1,2]\n",
    "f1 = plt.bar(ind,[c_w,c_b],width=0.6,color='red',align='center')\n",
    "f2 = plt.bar(ind,[n_w-c_w,n_b-c_b],width=0.6,bottom=[c_w,c_b],align='center')\n",
    "plt.xticks(ind,['White','Black'])\n",
    "plt.ylabel('Number of applicants')\n",
    "plt.legend((f1[0],f2[0]),('Callback','No callback'),loc=5)\n",
    "plt.xlim([0,4])\n"
   ]
  },
  {
   "cell_type": "markdown",
   "metadata": {},
   "source": [
    "1. What test is appropriate for this problem? Does CLT apply?\n",
    "\n",
    "    This problem is related to compare two population proportion (white and black applicants). The objective is to determine whether race has a significant impact on the rate of callbacks for resumes.\n",
    "\n",
    "    The CLT can apply in this case (samples must be randomly selected). Sample size is larger than 30, so z-statistics is more suitable than t-statistics.\n",
    "\n"
   ]
  },
  {
   "cell_type": "markdown",
   "metadata": {},
   "source": [
    "2. What are the null and alternate hypotheses?\n",
    "\n",
    "    Ho: There is no difference between black and white resumes/ There is no significant difference between \"percentage called back\" for black and white resumes. \n",
    "\n",
    "    H1: There is difference between black and white resumes/ There is significant difference between \"percentage called back\" for black and white resumes. \n",
    "\n",
    "    H0: pw = pb\n",
    "\n",
    "    H1: pw $\\neq$ pb\n",
    "    \n",
    "    Sample size>=30 so z-statistic is appropriate\n"
   ]
  },
  {
   "cell_type": "markdown",
   "metadata": {},
   "source": [
    "# Compute margin of error, confidence interval, and p-value."
   ]
  },
  {
   "cell_type": "markdown",
   "metadata": {},
   "source": [
    "## Bootstrapping method"
   ]
  },
  {
   "cell_type": "code",
   "execution_count": 61,
   "metadata": {},
   "outputs": [],
   "source": [
    "np.random.seed(1)\n",
    "\n",
    "# Number of bootstrap samples (N)\n",
    "N = 10000\n",
    "\n",
    "# percent callbacks for white in bootstrapping\n",
    "w_bs = np.empty(N)\n",
    "# percent callbacks for black in bootstrapping\n",
    "b_bs = np.empty(N)\n",
    "# difference of percent callbacks between whites and blacks\n",
    "diff_bs = np.empty(N)"
   ]
  },
  {
   "cell_type": "code",
   "execution_count": 62,
   "metadata": {},
   "outputs": [
    {
     "data": {
      "text/plain": [
       "array([0., 0., 0., ..., 0., 0., 0.])"
      ]
     },
     "execution_count": 62,
     "metadata": {},
     "output_type": "execute_result"
    }
   ],
   "source": [
    "w_bs"
   ]
  },
  {
   "cell_type": "code",
   "execution_count": 63,
   "metadata": {},
   "outputs": [],
   "source": [
    "# generate bootstraps\n",
    "for i in range(N):    \n",
    "    w_bs[i] = np.sum(np.random.choice(data.call,size=n_w))/n_w\n",
    "    b_bs[i] = np.sum(np.random.choice(data.call,size=n_b))/n_b\n",
    "    diff_bs[i] = w_bs[i] - b_bs[i]"
   ]
  },
  {
   "cell_type": "code",
   "execution_count": 64,
   "metadata": {},
   "outputs": [
    {
     "name": "stderr",
     "output_type": "stream",
     "text": [
      "/Users/hp/anaconda3/lib/python3.7/site-packages/matplotlib/axes/_axes.py:6521: MatplotlibDeprecationWarning: \n",
      "The 'normed' kwarg was deprecated in Matplotlib 2.1 and will be removed in 3.1. Use 'density' instead.\n",
      "  alternative=\"'density'\", removal=\"3.1\")\n"
     ]
    },
    {
     "data": {
      "text/plain": [
       "Text(0.5, 1.0, 'Bootstrapping approach')"
      ]
     },
     "execution_count": 64,
     "metadata": {},
     "output_type": "execute_result"
    },
    {
     "data": {
      "image/png": "[encoded data removed]",
      "text/plain": [
       "<Figure size 1080x1080 with 1 Axes>"
      ]
     },
     "metadata": {
      "needs_background": "light"
     },
     "output_type": "display_data"
    }
   ],
   "source": [
    "_ = plt.hist(diff_bs,normed=True)\n",
    "plt.xlabel('Difference of percent callbacks between whites and blacks')\n",
    "plt.ylabel('PDF')\n",
    "plt.title('Bootstrapping approach')"
   ]
  },
  {
   "cell_type": "code",
   "execution_count": 65,
   "metadata": {},
   "outputs": [
    {
     "name": "stdout",
     "output_type": "stream",
     "text": [
      "alpha = 0.05\n",
      "p-value = 0.0001\n",
      "Ho can be rejected\n"
     ]
    }
   ],
   "source": [
    "print('alpha = 0.05')\n",
    "alpha = 0.05\n",
    "\n",
    "# Print the p-value\n",
    "p_value_bs = np.sum(diff_bs >= (p_w-p_b))/len(diff_bs)\n",
    "print('p-value = %.4f' % p_value_bs)\n",
    "\n",
    "if p_value_bs < alpha:\n",
    "    print('Ho can be rejected')\n",
    "else:\n",
    "    print('Ho cannot be rejected')\n"
   ]
  },
  {
   "cell_type": "code",
   "execution_count": 66,
   "metadata": {},
   "outputs": [
    {
     "name": "stdout",
     "output_type": "stream",
     "text": [
      "The margin of error :  0.015400410677618069\n",
      "Confidence interval :  [-0.01560575  0.01519507]\n"
     ]
    }
   ],
   "source": [
    "ci_bs = np.percentile(diff_bs,[2.5, 97.5])\n",
    "me_bs = 0.5*(ci_bs[1]-ci_bs[0])\n",
    "\n",
    "print('The margin of error : ', me_bs)\n",
    "print('Confidence interval : ', ci_bs)\n"
   ]
  },
  {
   "cell_type": "markdown",
   "metadata": {},
   "source": [
    "## Frequentist statistical method"
   ]
  },
  {
   "cell_type": "code",
   "execution_count": 67,
   "metadata": {},
   "outputs": [],
   "source": [
    "# whites \n",
    "# total applicants (n1) and percent of callbacks (p1)\n",
    "# variance (var1)\n",
    "var_1 = p_w*(1-p_w)/n_w\n",
    "\n",
    "# blacks\n",
    "# total applicants (n2) and percent of callbacks (p2)\n",
    "# variance (var2)\n",
    "var_2 = p_b*(1-p_b)/n_b\n",
    "\n",
    "# difference in callback percent \n",
    "diff_fre = p_w-p_b\n",
    "\n",
    "# standard error\n",
    "diff_std = np.sqrt(var_1 + var_2)"
   ]
  },
  {
   "cell_type": "code",
   "execution_count": 68,
   "metadata": {},
   "outputs": [
    {
     "name": "stdout",
     "output_type": "stream",
     "text": [
      "z-score :  4.11555043573\n",
      "p-value :  3.862565207524149e-05\n",
      "Ho can be rejected\n"
     ]
    }
   ],
   "source": [
    "# use z-statistics\n",
    "z_score = diff_fre/diff_std\n",
    "print('z-score : ',z_score)\n",
    "\n",
    "# p_value (2 tails)\n",
    "p_value = (1-stats.norm.cdf(z_score))*2\n",
    "print('p-value : ', p_value)\n",
    "\n",
    "# significance level (alpha = 0.05)\n",
    "if p_value < alpha:\n",
    "    print('Ho can be rejected')\n",
    "else:\n",
    "    print('Ho cannot be rejected')\n"
   ]
  },
  {
   "cell_type": "code",
   "execution_count": 69,
   "metadata": {},
   "outputs": [
    {
     "name": "stdout",
     "output_type": "stream",
     "text": [
      "The margin of error :  0.015255406349886438\n",
      "Confidence interval :  [0.016777447859559147, 0.047288260559332024]\n"
     ]
    }
   ],
   "source": [
    "# margin of error\n",
    "# the critical Z-score values when using a 95% confidence level is 1.96\n",
    "me = 1.96 * diff_std\n",
    "print('The margin of error : ', me)\n",
    "\n",
    "# confidence interval\n",
    "ci = [diff_fre - me, diff_fre + me]\n",
    "print('Confidence interval : ', ci)\n"
   ]
  },
  {
   "cell_type": "markdown",
   "metadata": {},
   "source": [
    "# Write a story describing the statistical significance in the context or the original problem.\n",
    "\n"
   ]
  },
  {
   "cell_type": "markdown",
   "metadata": {},
   "source": [
    "Based on statistical tests from bootstrapping and frequentist statistical methods, p value are less than 0.05 with 95% confidence interval. Therefore, null hypothesis can be rejected which means there is a significant difference between rate callbacks for resume between white and black candidates. White applicants have higher chance of getting callbacks for resumes compared to black candidates."
   ]
  },
  {
   "cell_type": "markdown",
   "metadata": {},
   "source": [
    "# Does your analysis mean that race/name is the most important factor in callback success? Why or why not? If not, how would you amend your analysis?\n"
   ]
  },
  {
   "cell_type": "markdown",
   "metadata": {},
   "source": [
    "No, it does not. Analyses show that one of the influencing factor is  race for callback success. It does not explicitly say this is the most important factor for callback success.\n",
    "\n",
    "Based on our data, we need to find the correlation between callback and other factors. We will find it based on correlation plot."
   ]
  },
  {
   "cell_type": "code",
   "execution_count": 70,
   "metadata": {},
   "outputs": [
    {
     "data": {
      "image/png": "[encoded data removed]",
      "text/plain": [
       "<Figure size 1080x1080 with 2 Axes>"
      ]
     },
     "metadata": {
      "needs_background": "light"
     },
     "output_type": "display_data"
    },
    {
     "data": {
      "text/html": [
       "<div>\n",
       "<style scoped>\n",
       "    .dataframe tbody tr th:only-of-type {\n",
       "        vertical-align: middle;\n",
       "    }\n",
       "\n",
       "    .dataframe tbody tr th {\n",
       "        vertical-align: top;\n",
       "    }\n",
       "\n",
       "    .dataframe thead th {\n",
       "        text-align: right;\n",
       "    }\n",
       "</style>\n",
       "<table border=\"1\" class=\"dataframe\">\n",
       "  <thead>\n",
       "    <tr style=\"text-align: right;\">\n",
       "      <th></th>\n",
       "      <th>b_name</th>\n",
       "      <th>call</th>\n",
       "    </tr>\n",
       "  </thead>\n",
       "  <tbody>\n",
       "    <tr>\n",
       "      <th>b_name</th>\n",
       "      <td>1.00000</td>\n",
       "      <td>-0.05887</td>\n",
       "    </tr>\n",
       "    <tr>\n",
       "      <th>fracdropout</th>\n",
       "      <td>-0.00432</td>\n",
       "      <td>-0.05667</td>\n",
       "    </tr>\n",
       "    <tr>\n",
       "      <th>lmedhhinc_empzip</th>\n",
       "      <td>0.00000</td>\n",
       "      <td>-0.04988</td>\n",
       "    </tr>\n",
       "    <tr>\n",
       "      <th>req</th>\n",
       "      <td>-0.00000</td>\n",
       "      <td>-0.04170</td>\n",
       "    </tr>\n",
       "    <tr>\n",
       "      <th>educreq</th>\n",
       "      <td>0.00000</td>\n",
       "      <td>-0.03386</td>\n",
       "    </tr>\n",
       "    <tr>\n",
       "      <th>orgreq</th>\n",
       "      <td>-0.00000</td>\n",
       "      <td>-0.03342</td>\n",
       "    </tr>\n",
       "    <tr>\n",
       "      <th>fracwhite_empzip</th>\n",
       "      <td>0.00000</td>\n",
       "      <td>-0.03299</td>\n",
       "    </tr>\n",
       "    <tr>\n",
       "      <th>branch_sales</th>\n",
       "      <td>0.00000</td>\n",
       "      <td>-0.02913</td>\n",
       "    </tr>\n",
       "    <tr>\n",
       "      <th>computerskills</th>\n",
       "      <td>0.03104</td>\n",
       "      <td>-0.02881</td>\n",
       "    </tr>\n",
       "    <tr>\n",
       "      <th>manuf</th>\n",
       "      <td>-0.00000</td>\n",
       "      <td>-0.02879</td>\n",
       "    </tr>\n",
       "    <tr>\n",
       "      <th>workinschool</th>\n",
       "      <td>0.00290</td>\n",
       "      <td>-0.02789</td>\n",
       "    </tr>\n",
       "    <tr>\n",
       "      <th>branch_emp</th>\n",
       "      <td>0.00000</td>\n",
       "      <td>-0.02691</td>\n",
       "    </tr>\n",
       "    <tr>\n",
       "      <th>l</th>\n",
       "      <td>-0.00000</td>\n",
       "      <td>-0.02584</td>\n",
       "    </tr>\n",
       "    <tr>\n",
       "      <th>compreq</th>\n",
       "      <td>0.00041</td>\n",
       "      <td>-0.02491</td>\n",
       "    </tr>\n",
       "    <tr>\n",
       "      <th>fracblack</th>\n",
       "      <td>0.00718</td>\n",
       "      <td>-0.02213</td>\n",
       "    </tr>\n",
       "    <tr>\n",
       "      <th>trade</th>\n",
       "      <td>0.00000</td>\n",
       "      <td>-0.02185</td>\n",
       "    </tr>\n",
       "    <tr>\n",
       "      <th>salesrep</th>\n",
       "      <td>0.00000</td>\n",
       "      <td>-0.02158</td>\n",
       "    </tr>\n",
       "    <tr>\n",
       "      <th>military</th>\n",
       "      <td>0.01595</td>\n",
       "      <td>-0.02058</td>\n",
       "    </tr>\n",
       "    <tr>\n",
       "      <th>manager</th>\n",
       "      <td>-0.00057</td>\n",
       "      <td>-0.02027</td>\n",
       "    </tr>\n",
       "    <tr>\n",
       "      <th>expreq</th>\n",
       "      <td>0.00000</td>\n",
       "      <td>-0.01925</td>\n",
       "    </tr>\n",
       "    <tr>\n",
       "      <th>supervisor</th>\n",
       "      <td>0.00000</td>\n",
       "      <td>-0.01206</td>\n",
       "    </tr>\n",
       "    <tr>\n",
       "      <th>bankreal</th>\n",
       "      <td>0.00000</td>\n",
       "      <td>-0.00900</td>\n",
       "    </tr>\n",
       "    <tr>\n",
       "      <th>col</th>\n",
       "      <td>0.00731</td>\n",
       "      <td>-0.00848</td>\n",
       "    </tr>\n",
       "    <tr>\n",
       "      <th>missind</th>\n",
       "      <td>0.00000</td>\n",
       "      <td>-0.00755</td>\n",
       "    </tr>\n",
       "    <tr>\n",
       "      <th>education</th>\n",
       "      <td>-0.00345</td>\n",
       "      <td>-0.00575</td>\n",
       "    </tr>\n",
       "    <tr>\n",
       "      <th>ofjobs</th>\n",
       "      <td>-0.00253</td>\n",
       "      <td>0.00231</td>\n",
       "    </tr>\n",
       "    <tr>\n",
       "      <th>retailsales</th>\n",
       "      <td>0.00000</td>\n",
       "      <td>0.00234</td>\n",
       "    </tr>\n",
       "    <tr>\n",
       "      <th>comreq</th>\n",
       "      <td>-0.00000</td>\n",
       "      <td>0.00242</td>\n",
       "    </tr>\n",
       "    <tr>\n",
       "      <th>eoe</th>\n",
       "      <td>-0.00000</td>\n",
       "      <td>0.00309</td>\n",
       "    </tr>\n",
       "    <tr>\n",
       "      <th>secretary</th>\n",
       "      <td>0.00044</td>\n",
       "      <td>0.00404</td>\n",
       "    </tr>\n",
       "    <tr>\n",
       "      <th>busservice</th>\n",
       "      <td>0.00000</td>\n",
       "      <td>0.00688</td>\n",
       "    </tr>\n",
       "    <tr>\n",
       "      <th>linc_empzip</th>\n",
       "      <td>0.00000</td>\n",
       "      <td>0.00688</td>\n",
       "    </tr>\n",
       "    <tr>\n",
       "      <th>volunteer</th>\n",
       "      <td>0.00584</td>\n",
       "      <td>0.00720</td>\n",
       "    </tr>\n",
       "    <tr>\n",
       "      <th>parent_sales</th>\n",
       "      <td>0.00000</td>\n",
       "      <td>0.00843</td>\n",
       "    </tr>\n",
       "    <tr>\n",
       "      <th>fracblack_empzip</th>\n",
       "      <td>0.00000</td>\n",
       "      <td>0.00988</td>\n",
       "    </tr>\n",
       "    <tr>\n",
       "      <th>fracdropout_empzip</th>\n",
       "      <td>0.00000</td>\n",
       "      <td>0.01395</td>\n",
       "    </tr>\n",
       "    <tr>\n",
       "      <th>fed</th>\n",
       "      <td>0.00000</td>\n",
       "      <td>0.01447</td>\n",
       "    </tr>\n",
       "    <tr>\n",
       "      <th>h</th>\n",
       "      <td>0.00000</td>\n",
       "      <td>0.02584</td>\n",
       "    </tr>\n",
       "    <tr>\n",
       "      <th>email</th>\n",
       "      <td>0.00082</td>\n",
       "      <td>0.02588</td>\n",
       "    </tr>\n",
       "    <tr>\n",
       "      <th>fraccolp_empzip</th>\n",
       "      <td>0.00000</td>\n",
       "      <td>0.02612</td>\n",
       "    </tr>\n",
       "    <tr>\n",
       "      <th>occupbroad</th>\n",
       "      <td>0.00312</td>\n",
       "      <td>0.03454</td>\n",
       "    </tr>\n",
       "    <tr>\n",
       "      <th>fracwhite</th>\n",
       "      <td>-0.00741</td>\n",
       "      <td>0.03515</td>\n",
       "    </tr>\n",
       "    <tr>\n",
       "      <th>transcom</th>\n",
       "      <td>0.00000</td>\n",
       "      <td>0.03556</td>\n",
       "    </tr>\n",
       "    <tr>\n",
       "      <th>othservice</th>\n",
       "      <td>0.00000</td>\n",
       "      <td>0.03611</td>\n",
       "    </tr>\n",
       "    <tr>\n",
       "      <th>parent_emp</th>\n",
       "      <td>0.00000</td>\n",
       "      <td>0.03906</td>\n",
       "    </tr>\n",
       "    <tr>\n",
       "      <th>occupspecific</th>\n",
       "      <td>0.00748</td>\n",
       "      <td>0.04055</td>\n",
       "    </tr>\n",
       "    <tr>\n",
       "      <th>fraccolp</th>\n",
       "      <td>-0.00697</td>\n",
       "      <td>0.04702</td>\n",
       "    </tr>\n",
       "    <tr>\n",
       "      <th>lmedhhinc</th>\n",
       "      <td>-0.01205</td>\n",
       "      <td>0.04770</td>\n",
       "    </tr>\n",
       "    <tr>\n",
       "      <th>offsupport</th>\n",
       "      <td>-0.00000</td>\n",
       "      <td>0.04778</td>\n",
       "    </tr>\n",
       "    <tr>\n",
       "      <th>linc</th>\n",
       "      <td>-0.00680</td>\n",
       "      <td>0.04965</td>\n",
       "    </tr>\n",
       "    <tr>\n",
       "      <th>yearsexp</th>\n",
       "      <td>-0.00265</td>\n",
       "      <td>0.06144</td>\n",
       "    </tr>\n",
       "    <tr>\n",
       "      <th>adid</th>\n",
       "      <td>-0.00000</td>\n",
       "      <td>0.06318</td>\n",
       "    </tr>\n",
       "    <tr>\n",
       "      <th>empholes</th>\n",
       "      <td>-0.00413</td>\n",
       "      <td>0.07189</td>\n",
       "    </tr>\n",
       "    <tr>\n",
       "      <th>honors</th>\n",
       "      <td>-0.00643</td>\n",
       "      <td>0.07195</td>\n",
       "    </tr>\n",
       "    <tr>\n",
       "      <th>specialskills</th>\n",
       "      <td>-0.00306</td>\n",
       "      <td>0.11107</td>\n",
       "    </tr>\n",
       "    <tr>\n",
       "      <th>call</th>\n",
       "      <td>-0.05887</td>\n",
       "      <td>1.00000</td>\n",
       "    </tr>\n",
       "  </tbody>\n",
       "</table>\n",
       "</div>"
      ],
      "text/plain": [
       "                     b_name     call\n",
       "b_name              1.00000 -0.05887\n",
       "fracdropout        -0.00432 -0.05667\n",
       "lmedhhinc_empzip    0.00000 -0.04988\n",
       "req                -0.00000 -0.04170\n",
       "educreq             0.00000 -0.03386\n",
       "orgreq             -0.00000 -0.03342\n",
       "fracwhite_empzip    0.00000 -0.03299\n",
       "branch_sales        0.00000 -0.02913\n",
       "computerskills      0.03104 -0.02881\n",
       "manuf              -0.00000 -0.02879\n",
       "workinschool        0.00290 -0.02789\n",
       "branch_emp          0.00000 -0.02691\n",
       "l                  -0.00000 -0.02584\n",
       "compreq             0.00041 -0.02491\n",
       "fracblack           0.00718 -0.02213\n",
       "trade               0.00000 -0.02185\n",
       "salesrep            0.00000 -0.02158\n",
       "military            0.01595 -0.02058\n",
       "manager            -0.00057 -0.02027\n",
       "expreq              0.00000 -0.01925\n",
       "supervisor          0.00000 -0.01206\n",
       "bankreal            0.00000 -0.00900\n",
       "col                 0.00731 -0.00848\n",
       "missind             0.00000 -0.00755\n",
       "education          -0.00345 -0.00575\n",
       "ofjobs             -0.00253  0.00231\n",
       "retailsales         0.00000  0.00234\n",
       "comreq             -0.00000  0.00242\n",
       "eoe                -0.00000  0.00309\n",
       "secretary           0.00044  0.00404\n",
       "busservice          0.00000  0.00688\n",
       "linc_empzip         0.00000  0.00688\n",
       "volunteer           0.00584  0.00720\n",
       "parent_sales        0.00000  0.00843\n",
       "fracblack_empzip    0.00000  0.00988\n",
       "fracdropout_empzip  0.00000  0.01395\n",
       "fed                 0.00000  0.01447\n",
       "h                   0.00000  0.02584\n",
       "email               0.00082  0.02588\n",
       "fraccolp_empzip     0.00000  0.02612\n",
       "occupbroad          0.00312  0.03454\n",
       "fracwhite          -0.00741  0.03515\n",
       "transcom            0.00000  0.03556\n",
       "othservice          0.00000  0.03611\n",
       "parent_emp          0.00000  0.03906\n",
       "occupspecific       0.00748  0.04055\n",
       "fraccolp           -0.00697  0.04702\n",
       "lmedhhinc          -0.01205  0.04770\n",
       "offsupport         -0.00000  0.04778\n",
       "linc               -0.00680  0.04965\n",
       "yearsexp           -0.00265  0.06144\n",
       "adid               -0.00000  0.06318\n",
       "empholes           -0.00413  0.07189\n",
       "honors             -0.00643  0.07195\n",
       "specialskills      -0.00306  0.11107\n",
       "call               -0.05887  1.00000"
      ]
     },
     "execution_count": 70,
     "metadata": {},
     "output_type": "execute_result"
    }
   ],
   "source": [
    "import seaborn as sns\n",
    "plt.rcParams[\"figure.figsize\"] = (15,15)\n",
    "# calculate the correlation matrix\n",
    "df_corr = data\n",
    "df_corr['b_name'] = 0\n",
    "df_corr.loc[data.race == 'b','b_name'] = 1\n",
    "\n",
    "corr = df_corr.corr()\n",
    "\n",
    "# plot the heatmap\n",
    "sns.heatmap(corr, \n",
    "        xticklabels=corr.columns,\n",
    "        yticklabels=corr.columns, cmap='coolwarm')\n",
    "plt.show()\n",
    "\n",
    "pd.options.display.float_format = '{:.5f}'.format\n",
    "corr[['b_name', 'call']].sort_values('call')\n"
   ]
  },
  {
   "cell_type": "markdown",
   "metadata": {},
   "source": [
    "Above correlation plot shows strong negative correlation between name and callbacks."
   ]
  },
  {
   "cell_type": "code",
   "execution_count": null,
   "metadata": {},
   "outputs": [],
   "source": []
  }
 ],
 "metadata": {
  "hide_input": false,
  "kernelspec": {
   "display_name": "Python 3",
   "language": "python",
   "name": "python3"
  },
  "language_info": {
   "codemirror_mode": {
    "name": "ipython",
    "version": 3
   },
   "file_extension": ".py",
   "mimetype": "text/x-python",
   "name": "python",
   "nbconvert_exporter": "python",
   "pygments_lexer": "ipython3",
   "version": "3.7.3"
  },
  "toc": {
   "base_numbering": 1,
   "nav_menu": {},
   "number_sections": true,
   "sideBar": true,
   "skip_h1_title": false,
   "title_cell": "Table of Contents",
   "title_sidebar": "Contents",
   "toc_cell": false,
   "toc_position": {},
   "toc_section_display": true,
   "toc_window_display": false
  },
  "varInspector": {
   "cols": {
    "lenName": 16,
    "lenType": 16,
    "lenVar": 40
   },
   "kernels_config": {
    "python": {
     "delete_cmd_postfix": "",
     "delete_cmd_prefix": "del ",
     "library": "var_list.py",
     "varRefreshCmd": "print(var_dic_list())"
    },
    "r": {
     "delete_cmd_postfix": ") ",
     "delete_cmd_prefix": "rm(",
     "library": "var_list.r",
     "varRefreshCmd": "cat(var_dic_list()) "
    }
   },
   "types_to_exclude": [
    "module",
    "function",
    "builtin_function_or_method",
    "instance",
    "_Feature"
   ],
   "window_display": false
  }
 },
 "nbformat": 4,
 "nbformat_minor": 1
}
